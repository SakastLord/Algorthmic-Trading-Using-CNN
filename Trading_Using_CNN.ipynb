{
 "cells": [
  {
   "cell_type": "code",
   "execution_count": 1,
   "metadata": {},
   "outputs": [],
   "source": [
    "import pandas as pd\n",
    "import numpy as np"
   ]
  },
  {
   "cell_type": "code",
   "execution_count": 4,
   "metadata": {},
   "outputs": [],
   "source": [
    " #df = pd.read_csv('WMT.csv')\n",
    "    #Uncomment this and read the WMT csv file wherever its stored on your local device"
   ]
  },
  {
   "cell_type": "code",
   "execution_count": 5,
   "metadata": {},
   "outputs": [
    {
     "ename": "IndentationError",
     "evalue": "expected an indented block (<ipython-input-5-cae2ff3fa008>, line 5)",
     "output_type": "error",
     "traceback": [
      "\u001b[1;36m  File \u001b[1;32m\"<ipython-input-5-cae2ff3fa008>\"\u001b[1;36m, line \u001b[1;32m5\u001b[0m\n\u001b[1;33m    def cmo():\u001b[0m\n\u001b[1;37m      ^\u001b[0m\n\u001b[1;31mIndentationError\u001b[0m\u001b[1;31m:\u001b[0m expected an indented block\n"
     ]
    }
   ],
   "source": [
    "#This is where you will code up the technical indicators and add as columns in the original dataframe\n",
    "\n",
    "def rsi(): #code rsi 6 to 25\n",
    "    \n",
    "def cmo():\n",
    "    \n",
    "def williams(df):\n",
    "   for period in range(6,21):\n",
    "     lowest_low=pd.Series(df[\"Low\"].rolling(window = period).min())\n",
    "     highest_high=pd.Series(df[\"High\"].rolling(window = period).max())  \n",
    "     df[f'Williams_{period}']=pd.Series(((highest_high-df['Close'])/(highest_high-lowest_low))*-100)\n",
    "   return df\n",
    "    \n",
    "def sma(): #code sma 6 to 30 \n",
    "    \n",
    "def wma():\n",
    "    \n",
    "def ppo():\n",
    "    \n",
    "def ema():\n",
    "    \n",
    "def roc():\n",
    "    \n",
    "def cmfi(df):\n",
    "  MFM = ((df['Close']-df['Low']) - (df['High']-df['Close']))/(df['High']-df['Low'])      #Calculating Multiplier\n",
    "  MFV = MFM * df['Volume']           \n",
    "  for period in range(6,21):\n",
    "    df[f'cmfi_{period}'] = (MFV.rolling(window = period).sum())/(df['Volume'].rolling(window = period).sum())\n",
    "  return df\n",
    "\n",
    "def hma():\n",
    "    \n",
    "def dmi():\n",
    "    \n",
    "def tripleema():\n",
    "    \n",
    "def psi():\n",
    "    \n",
    "def cci(df): \n",
    "    TP = (df['High'] + df['Low'] + df['Close']) / 3 \n",
    "    for period in range(6,21):\n",
    "      df[f'cci_{period}']= pd.Series((TP - TP.rolling(window = period).mean()) / (0.015 * TP.rolling(window = period).std()))\n",
    "    return df\n",
    "\n",
    "    \n"
   ]
  },
  {
   "cell_type": "code",
   "execution_count": 6,
   "metadata": {},
   "outputs": [
    {
     "ename": "SyntaxError",
     "evalue": "unexpected EOF while parsing (<ipython-input-6-c7c1a64e3c53>, line 1)",
     "output_type": "error",
     "traceback": [
      "\u001b[1;36m  File \u001b[1;32m\"<ipython-input-6-c7c1a64e3c53>\"\u001b[1;36m, line \u001b[1;32m1\u001b[0m\n\u001b[1;33m    def label_data():\u001b[0m\n\u001b[1;37m                     ^\u001b[0m\n\u001b[1;31mSyntaxError\u001b[0m\u001b[1;31m:\u001b[0m unexpected EOF while parsing\n"
     ]
    }
   ],
   "source": [
    "def label_data(df):\n",
    "  \"\"\"\n",
    "  Research Paper Algorithm's of Labelling Method is simply telling us to take Window Size of 11 period and check,\n",
    "  whether the middle number is maximum in the window, then Label it as \"Sell\", or\n",
    "  if the middle number is minimum in the window, then Label it as \"Buy\",\n",
    "  else Label it as \"Hold\", and then Slide the Window by 1 Period\n",
    "  \"\"\"\n",
    "  \"\"\"\n",
    "  Parameter : df ==> Dataframe with OHLCV data.\n",
    "  Returns : df ==> Dataframe with 1 added column of \"Label\".\n",
    "  \"\"\"\n",
    "  df['Label'] = ''\n",
    "  WindowSize = 11\n",
    "  counter_row = 0\n",
    "\n",
    "  while counter_row < len(df):\n",
    "    if counter_row >= WindowSize:\n",
    "      \n",
    "      #Creating the Window\n",
    "      WindowBeginIndex = counter_row - WindowSize             \n",
    "      WindowEndIndex = WindowBeginIndex + WindowSize - 1\n",
    "      WindowMidIndex = (WindowBeginIndex + WindowEndIndex)/2\n",
    "      min = np.inf\n",
    "      max = 0\n",
    "      min_index = -1\n",
    "      max_index = -1\n",
    "      \n",
    "      #Finding Maximum and minimum in the Window \n",
    "      for i in range (WindowBeginIndex, WindowEndIndex +1):   \n",
    "        number = df['Close'][i]\n",
    "        if number < min:\n",
    "          min = number\n",
    "          min_index = i\n",
    "        if number > max:\n",
    "          max = number\n",
    "          max_index = i\n",
    "      \n",
    "      #Checking if the Middle number of Window is Max or Min and classifying them as \"SELL\",\"BUY\",\"HOLD\"\n",
    "      if max_index == WindowMidIndex:                         \n",
    "        df['Label'][WindowMidIndex] = \"SELL\"\n",
    "      elif min_index == WindowMidIndex:\n",
    "        df['Label'][WindowMidIndex] = \"BUY\"\n",
    "      else :\n",
    "        df['Label'][WindowMidIndex] = \"HOLD\"\n",
    "    counter_row = counter_row + 1\n",
    "  return df"
   ]
  },
  {
   "cell_type": "code",
   "execution_count": null,
   "metadata": {},
   "outputs": [],
   "source": []
  }
 ],
 "metadata": {
  "kernelspec": {
   "display_name": "Python 3",
   "language": "python",
   "name": "python3"
  },
  "language_info": {
   "codemirror_mode": {
    "name": "ipython",
    "version": 3
   },
   "file_extension": ".py",
   "mimetype": "text/x-python",
   "name": "python",
   "nbconvert_exporter": "python",
   "pygments_lexer": "ipython3",
   "version": "3.7.6"
  }
 },
 "nbformat": 4,
 "nbformat_minor": 4
}